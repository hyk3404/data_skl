{
 "cells": [
  {
   "cell_type": "code",
   "execution_count": 36,
   "metadata": {},
   "outputs": [],
   "source": [
    "import pandas as pd\n",
    "import numpy as np"
   ]
  },
  {
   "cell_type": "code",
   "execution_count": 33,
   "metadata": {},
   "outputs": [],
   "source": [
    "hero_data = pd.read_json(\"/home/zike/桌面/spider/data.json\") #指定絕對路徑讀取json檔\n",
    "hd = pd.DataFrame(hero_data) #將data轉成DataFrame的資料類型\n",
    "# print(hd)\n",
    "# print(hd.columns)"
   ]
  },
  {
   "cell_type": "code",
   "execution_count": 34,
   "metadata": {},
   "outputs": [],
   "source": [
    "hd = pd.DataFrame(hero_data, columns=['初始护甲','射程','攻击范围','攻击力','攻击速度','移动速度','生命值','魔法抗性','护甲']) #人工選擇input\n",
    "# print(hd)\n",
    "hd = hd.fillna(0) #先將空值歸0\n",
    "# print(hd)\n",
    "for count in hd.index: #將被分成不同的columns合併,當資料==0的時候由指定的column裡的資料取代\n",
    "    hd.loc[hd.攻击范围==0, '攻击范围'] = hd['射程'][count] \n",
    "    hd.loc[hd.护甲==0, '护甲'] = hd['初始护甲'][count]\n",
    "# print(hd)\n",
    "hd = hd.applymap(str) #把所有資料轉成string\n",
    "hd = hd.drop(columns = ['射程','初始护甲']) #刪除不必要的columns\n",
    "# print(hd)\n",
    "for col in hd.columns: #以columns逐一將資料內不必要的字串刪除\n",
    "    hd[col] = hd[col].str.replace('/每级','', regex=False) #用''取代不必要的字串\n",
    "    hd[col] = hd[col].str.replace('(','', regex=False)\n",
    "    hd[col] = hd[col].str.replace(')','', regex=False)\n",
    "    hd[col] = hd[col].str.replace('%','', regex=False)\n",
    "    hd[col] = hd[col].str.replace('每级','', regex=False)\n",
    "# print(hd)   \n",
    "hd = hd.fillna(0)\n",
    "# print(hd)\n",
    "hd['攻击力'], hd['攻擊成長'] = hd['攻击力'].str.split('+', 1).str #用關鍵字將資料分割成兩個columns\n",
    "hd['攻击速度'], hd['攻速成長'] = hd['攻击速度'].str.split('+', 1).str\n",
    "hd['生命值'], hd['生命成長'] = hd['生命值'].str.split('+', 1).str\n",
    "hd['魔法抗性'], hd['魔抗成長'] = hd['魔法抗性'].str.split('+', 1).str\n",
    "hd['护甲'], hd['護甲成長'] = hd['护甲'].str.split('+', 1).str\n",
    "# print(hd)\n",
    "hd = hd.fillna(0) #再次把空值歸0,因無關鍵字的資料會以空值補上\n",
    "# print(hd)\n",
    "\n",
    "hd = hd.apply(pd.to_numeric, errors='coerce') #將資料強制轉成數值,帶有字串的資料會直接轉成空值\n",
    "# for col in hd.columns:\n",
    "#     hd[col] = pd.to_numeric(hd[col], errors='coerce', downcast='float')\n",
    "\n",
    "hd.dropna(subset=['攻击范围'],inplace=True) #刪除沒分類標籤的資料(此處只是範例,請依欲分析資料做處理)\n",
    "hd.loc[hd.攻击范围 < 350, '攻击范围'] = 0 #同上\n",
    "hd.loc[hd.攻击范围 >= 350, '攻击范围'] = 1 #同上\n",
    "\n",
    "hd = hd.fillna(hd.mean(0)) #將空值補上當前column的平均值\n",
    "\n",
    "output=hd.to_json(orient='records') #把dataframe類型的hero_data輸出成json檔(csv檔也行)\n",
    "with open('clean.json', 'w') as f: #python的寫檔\n",
    "    f.write(output)"
   ]
  },
  {
   "cell_type": "code",
   "execution_count": 35,
   "metadata": {},
   "outputs": [
    {
     "name": "stdout",
     "output_type": "stream",
     "text": [
      "<class 'pandas.core.frame.DataFrame'>\n",
      "Int64Index: 134 entries, 0 to 136\n",
      "Data columns (total 12 columns):\n",
      "攻击范围    134 non-null float64\n",
      "攻击力     134 non-null float64\n",
      "攻击速度    134 non-null float64\n",
      "移动速度    134 non-null float64\n",
      "生命值     134 non-null float64\n",
      "魔法抗性    134 non-null float64\n",
      "护甲      134 non-null float64\n",
      "攻擊成長    134 non-null float64\n",
      "攻速成長    134 non-null float64\n",
      "生命成長    134 non-null float64\n",
      "魔抗成長    134 non-null float64\n",
      "護甲成長    134 non-null float64\n",
      "dtypes: float64(12)\n",
      "memory usage: 18.6 KB\n"
     ]
    }
   ],
   "source": [
    "hd.empty #有空值時為True\n",
    "hd.info() #察看資料型態與無空值數量"
   ]
  },
  {
   "cell_type": "code",
   "execution_count": null,
   "metadata": {},
   "outputs": [],
   "source": []
  }
 ],
 "metadata": {
  "kernelspec": {
   "display_name": "Python 3",
   "language": "python",
   "name": "python3"
  },
  "language_info": {
   "codemirror_mode": {
    "name": "ipython",
    "version": 3
   },
   "file_extension": ".py",
   "mimetype": "text/x-python",
   "name": "python",
   "nbconvert_exporter": "python",
   "pygments_lexer": "ipython3",
   "version": "3.5.2"
  }
 },
 "nbformat": 4,
 "nbformat_minor": 2
}
