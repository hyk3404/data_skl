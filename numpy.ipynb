{
 "cells": [
  {
   "cell_type": "code",
   "execution_count": 2,
   "metadata": {},
   "outputs": [],
   "source": [
    "import pandas\n",
    "import numpy as np"
   ]
  },
  {
   "cell_type": "code",
   "execution_count": 3,
   "metadata": {},
   "outputs": [
    {
     "name": "stdout",
     "output_type": "stream",
     "text": [
      "[[1 2 3]\n",
      " [2 3 4]]\n",
      "number of dim: 2\n",
      "shape : (2, 3)\n",
      "size: 6\n"
     ]
    }
   ],
   "source": [
    "array = np.array([[1,2,3],[2,3,4]])  #列表转化为矩阵\n",
    "print(array)\n",
    "print('number of dim:',array.ndim)  # 维度\n",
    "print('shape :',array.shape)    # 行数和列数\n",
    "print('size:',array.size)   # 元素个数"
   ]
  },
  {
   "cell_type": "code",
   "execution_count": 4,
   "metadata": {},
   "outputs": [
    {
     "name": "stdout",
     "output_type": "stream",
     "text": [
      "[[10 11 12 13 14]\n",
      " [15 16 17 18 19]\n",
      " [20 21 22 23 24]\n",
      " [25 26 27 28 29]]\n",
      "[[ 1.          1.47368421  1.94736842  2.42105263]\n",
      " [ 2.89473684  3.36842105  3.84210526  4.31578947]\n",
      " [ 4.78947368  5.26315789  5.73684211  6.21052632]\n",
      " [ 6.68421053  7.15789474  7.63157895  8.10526316]\n",
      " [ 8.57894737  9.05263158  9.52631579 10.        ]]\n"
     ]
    }
   ],
   "source": [
    "a = np.arange(10,30,1).reshape((4,5)) #4列5行\n",
    "print(a)\n",
    "b = np.linspace(1,10,20).reshape((5,4))#1~10分20線段 \n",
    "print(b)"
   ]
  },
  {
   "cell_type": "code",
   "execution_count": 5,
   "metadata": {},
   "outputs": [
    {
     "name": "stdout",
     "output_type": "stream",
     "text": [
      "[ 2  3  4  5  6  7  8  9 10 11 12 13]\n",
      "[ 2  5  9 14 20 27 35 44 54 65 77 90]\n",
      "[[-1  2]\n",
      " [ 2 -2]]\n",
      "[[4 3 7]\n",
      " [3 3 5]\n",
      " [1 0 2]]\n",
      "0\n",
      "11\n",
      "[[0 1 2]\n",
      " [1 1 3]]\n",
      "(array([0, 0, 1, 1, 1]), array([0, 2, 0, 1, 2]))\n",
      "[[1 1]\n",
      " [0 3]\n",
      " [2 1]]\n",
      "[[1 1 2]\n",
      " [1 2 1]]\n",
      "2\n",
      "3\n",
      "4\n",
      "5\n",
      "6\n",
      "7\n",
      "8\n",
      "9\n",
      "10\n",
      "11\n",
      "12\n",
      "13\n"
     ]
    }
   ],
   "source": [
    "a = np.array([[1,0,2],[1,3,1]])\n",
    "b = np.array([[3,1],[2,1],[1,0]])\n",
    "c = np.arange(2,14)\n",
    "print(c)\n",
    "print(np.cumsum(c)) #項目累加\n",
    "print(np.diff(a)) #前項差\n",
    "print(b.dot(a)) # 矩陣b乘a\n",
    "print(np.argmin(c))#最小的位置\n",
    "print(np.argmax(c))#最大\n",
    "print(np.sort(a)) #排序\n",
    "print(np.nonzero(a))#不為0的位置\n",
    "print(np.transpose(a))#行列互換\n",
    "print(np.clip(a,1,2))#(a,<1為1,>2為2)\n",
    "for item in c.flat:\n",
    "    print(item)"
   ]
  },
  {
   "cell_type": "code",
   "execution_count": 9,
   "metadata": {},
   "outputs": [
    {
     "name": "stdout",
     "output_type": "stream",
     "text": [
      "[[1 1 1]\n",
      " [2 2 2]]\n",
      "[1 1 1 2 2 2]\n"
     ]
    }
   ],
   "source": [
    "A = np.array([1,1,1])\n",
    "B = np.array([2,2,2])\n",
    "         \n",
    "print(np.vstack((A,B)))# AB上下合併\n",
    "print(np.hstack((A,B)))#AB左右合併\n",
    "\n"
   ]
  }
 ],
 "metadata": {
  "kernelspec": {
   "display_name": "Python 3",
   "language": "python",
   "name": "python3"
  },
  "language_info": {
   "codemirror_mode": {
    "name": "ipython",
    "version": 3
   },
   "file_extension": ".py",
   "mimetype": "text/x-python",
   "name": "python",
   "nbconvert_exporter": "python",
   "pygments_lexer": "ipython3",
   "version": "3.5.2"
  }
 },
 "nbformat": 4,
 "nbformat_minor": 2
}
